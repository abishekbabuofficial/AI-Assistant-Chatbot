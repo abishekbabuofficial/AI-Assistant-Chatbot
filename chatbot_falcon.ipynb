{
  "nbformat": 4,
  "nbformat_minor": 0,
  "metadata": {
    "colab": {
      "provenance": [],
      "gpuType": "T4",
      "authorship_tag": "ABX9TyOUNLsN9TSzi+YHhFAWkLdK",
      "include_colab_link": true
    },
    "kernelspec": {
      "name": "python3",
      "display_name": "Python 3"
    },
    "language_info": {
      "name": "python"
    },
    "accelerator": "GPU"
  },
  "cells": [
    {
      "cell_type": "markdown",
      "metadata": {
        "id": "view-in-github",
        "colab_type": "text"
      },
      "source": [
        "<a href=\"https://colab.research.google.com/github/abishekbabuofficial/AI-Assistant-Chatbot/blob/main/chatbot_falcon.ipynb\" target=\"_parent\"><img src=\"https://colab.research.google.com/assets/colab-badge.svg\" alt=\"Open In Colab\"/></a>"
      ]
    },
    {
      "cell_type": "markdown",
      "source": [
        "## **CHATBOT USING HUGGING FACE AND LANGCHAIN**\n",
        "**Steps**\n",
        "\n",
        "\n",
        "*   Create Huggice Face Account\n",
        "*   Install all the packages initially if you are using Local IDE\n",
        "\n"
      ],
      "metadata": {
        "id": "6Q5jXvPrQlkR"
      }
    },
    {
      "cell_type": "markdown",
      "source": [
        "### **1. Installing the python packages in the environment**\n",
        "\n",
        "The packages needed are\n",
        "*   huggingface_hub\n",
        "*   langchain - framework for developing applications powered by language models.\n",
        "*   gradio - framework used to create an application interface\n",
        "*   chainlit(optional) - it can be alternatively used for chainlit, which give more specifications.\n",
        "\n"
      ],
      "metadata": {
        "id": "eI9yPvSZSO9B"
      }
    },
    {
      "cell_type": "code",
      "execution_count": null,
      "metadata": {
        "id": "AQZxiLFjEBpQ"
      },
      "outputs": [],
      "source": [
        "!pip install huggingface_hub\n",
        "#!pip install chainlit\n",
        "!pip install gradio\n",
        "!pip install langchain"
      ]
    },
    {
      "cell_type": "markdown",
      "source": [
        "### **2. Import all the libraries from the packages**                                 \n",
        "Note: os is used to create environment"
      ],
      "metadata": {
        "id": "cM3ArYx_Tr1J"
      }
    },
    {
      "cell_type": "code",
      "source": [
        "from langchain import HuggingFaceHub, PromptTemplate, LLMChain\n",
        "from langchain.memory import ConversationBufferWindowMemory\n",
        "#import chainlit as cl\n",
        "import os\n",
        "import gradio as gr"
      ],
      "metadata": {
        "id": "Yx3b0nihHnjz"
      },
      "execution_count": 2,
      "outputs": []
    },
    {
      "cell_type": "markdown",
      "source": [
        "### **3. Connect with your HuggingFace Account**\n",
        "How to create Hugging Face API Token?\n",
        "\n",
        "\n",
        "*   Goto https://huggingface.co/settings/tokens\n",
        "*   Log in with your HuggingFace Account or Create One\n",
        "*   If you already have a token paste below or Create a new one by clicking **New Token**\n"
      ],
      "metadata": {
        "id": "ysy8oJv5UbCY"
      }
    },
    {
      "cell_type": "code",
      "source": [
        "HF_API_TOKEN = \"Enter your HF_API_TOKEM here\"\n",
        "os.environ['HF_API_TOKEN'] = HF_API_TOKEN"
      ],
      "metadata": {
        "id": "QoGkkp3WIYj9"
      },
      "execution_count": 3,
      "outputs": []
    },
    {
      "cell_type": "markdown",
      "source": [
        "### **4. Integrate the Model into the Notebook**\n",
        "Here, we used a open-source Large Language Model called **Falcon 7b-instruct** which was developed by TII.            \n",
        "To study further visit https://huggingface.co/tiiuae/falcon-7b-instruct"
      ],
      "metadata": {
        "id": "ZpQDcl0gVopP"
      }
    },
    {
      "cell_type": "code",
      "source": [
        "model_id = \"tiiuae/falcon-7b-instruct\"\n",
        "LLM = HuggingFaceHub(huggingfacehub_api_token=HF_API_TOKEN,\n",
        "                     repo_id=model_id,\n",
        "                     model_kwargs={\"temperature\":0.7,\"max_new_tokens\":700})"
      ],
      "metadata": {
        "id": "yiy__-w8JWWp"
      },
      "execution_count": 4,
      "outputs": []
    },
    {
      "cell_type": "markdown",
      "source": [
        "### **5. Prompt Engineering**\n",
        "\n",
        "\n",
        "*   To create a template to decribe the model characteristic\n",
        "*   Get a prompt from the user\n",
        "*   Here, I'm keep track on memory of my conversation upto 3 exchanges\n",
        "*   Finally, creating a LLM Chain for a multiple Conversational exchanges\n",
        "\n",
        "**Note:** Uncomment the lines if you try to use chainlit for interface and comment the gradio lines\n",
        "\n"
      ],
      "metadata": {
        "id": "1EO4JLSqWkbu"
      }
    },
    {
      "cell_type": "code",
      "source": [
        "template = \"\"\"\n",
        "You are a useful AI assistant named Abi and answer for user questions.\n",
        "\n",
        "Question: {question}\n",
        "\"\"\""
      ],
      "metadata": {
        "id": "C4TGRXNbRjw6"
      },
      "execution_count": 5,
      "outputs": []
    },
    {
      "cell_type": "code",
      "source": [
        "#@cl.on_chat_start\n",
        "#def main():\n",
        "promt = PromptTemplate(template = template, input_variables=['question'])\n",
        "memory = ConversationBufferWindowMemory(k=3)\n",
        "llm_chain = LLMChain(llm=LLM, prompt=promt, memory= memory)\n",
        "\n",
        "  #cl.user_session.set(\"llm_chain\", llm_chain)"
      ],
      "metadata": {
        "id": "A9EuajHrLB2k"
      },
      "execution_count": 6,
      "outputs": []
    },
    {
      "cell_type": "code",
      "source": [
        "#@cl.on_message\n",
        "#async def main(message: str):\n",
        "  # llm_chain = cl.user_session.get(\"llm_chain\")\n",
        "\n",
        "  # result = await llm_chain.acall(message, callbacks= [cl.AsyncLangchainCallbackHandler()])\n",
        "\n",
        "  # await cl.Message(content = result[\"text\"]).send()"
      ],
      "metadata": {
        "id": "VpyZo5_rTeD-"
      },
      "execution_count": null,
      "outputs": []
    },
    {
      "cell_type": "markdown",
      "source": [
        "### **6. Creating a User-defined function to pass prompts**"
      ],
      "metadata": {
        "id": "GaBnJGwdXzAO"
      }
    },
    {
      "cell_type": "code",
      "source": [
        "def ask(question,history):\n",
        "  ans = llm_chain.run(question)\n",
        "  return ans"
      ],
      "metadata": {
        "id": "53xQG9a6PLkh"
      },
      "execution_count": 7,
      "outputs": []
    },
    {
      "cell_type": "markdown",
      "source": [
        "**Here you go the chatbot is ready now, you can check by passing any prompt using the ask function**"
      ],
      "metadata": {
        "id": "MShTrMwJYDhI"
      }
    },
    {
      "cell_type": "code",
      "source": [
        "print(ask(\"What's Up!\", ''))"
      ],
      "metadata": {
        "id": "5FlSr_jtYQiL"
      },
      "execution_count": null,
      "outputs": []
    },
    {
      "cell_type": "markdown",
      "source": [
        "### **7. Building Application Interface using Gradio**"
      ],
      "metadata": {
        "id": "qnElgx50YZ03"
      }
    },
    {
      "cell_type": "code",
      "source": [
        "demo = gr.ChatInterface(ask,\n",
        "                        examples=['How are you doing?','What can you do?','Tell me a story','Tell me a joke','Who is prime minister of India?'],\n",
        "                        title=\"Abi-An AI Assistant\",\n",
        "                        description=\"This is an AI Chatbot Assistant that uses Falcon 7b-instruct LLM to generate the output for the user queries. This Application developed by Abishek B\")"
      ],
      "metadata": {
        "id": "jcISeCH_X_uj"
      },
      "execution_count": 15,
      "outputs": []
    },
    {
      "cell_type": "markdown",
      "source": [
        "### **8. Launch the ChatBot Interface**\n",
        "If you get any error, to find out what it is you can pass **debug=True** as a parameter for launch()\n",
        "\n",
        "**Note:** If you want to get a local host link individually, you can pass **share=True** for launch()  "
      ],
      "metadata": {
        "id": "rf2G4fhfYvq2"
      }
    },
    {
      "cell_type": "code",
      "source": [
        "demo.launch(debug=True)"
      ],
      "metadata": {
        "id": "PHqaFk_CYvWm"
      },
      "execution_count": null,
      "outputs": []
    },
    {
      "cell_type": "markdown",
      "source": [
        "## **The following codes are Optional**\n",
        "\n",
        "1.   List item\n",
        "2.   List item\n",
        "\n",
        "\n",
        "\n",
        "**It is used when you want to push your model into the huggingface repository**\n",
        "\n",
        "**Though you can manually create a space repository in the huggingface and copy paste this code into an app.py file and add it to the repository.**\n",
        "\n",
        "Also add package installations names in a requirements.txt file to the repo.\n",
        "No worries you can find those files in this GitHub repo itself."
      ],
      "metadata": {
        "id": "X9tpW7n0Zuqp"
      }
    },
    {
      "cell_type": "markdown",
      "source": [
        "### **Just to know follow below steps to push**"
      ],
      "metadata": {
        "id": "rYNRR0veavY2"
      }
    },
    {
      "cell_type": "markdown",
      "source": [
        "**Run the below cell and Login to the Huggingface Hub using the API Token(note: the token should be in write mode)**"
      ],
      "metadata": {
        "id": "GIwFl6GJbAde"
      }
    },
    {
      "cell_type": "code",
      "source": [
        "from huggingface_hub import notebook_login\n",
        "\n",
        "notebook_login()"
      ],
      "metadata": {
        "id": "AvI3--fwaJo4"
      },
      "execution_count": null,
      "outputs": []
    },
    {
      "cell_type": "code",
      "source": [
        "from huggingface_hub import HfApi\n",
        "api = HfApi()"
      ],
      "metadata": {
        "id": "6T89dI74ajAN"
      },
      "execution_count": null,
      "outputs": []
    },
    {
      "cell_type": "markdown",
      "source": [
        "**Create a Space repository in the Hugging Face Account**\n",
        "\n",
        "After creating the repository, you will be seeing a repo Id. Just copy it and paste down"
      ],
      "metadata": {
        "id": "KThgXuUObSM_"
      }
    },
    {
      "cell_type": "code",
      "source": [
        "HUGGING_FACE_REPO_ID = \"abishek-official/Abi-Assistant_chatbot\""
      ],
      "metadata": {
        "id": "uxygTDI3akaS"
      },
      "execution_count": null,
      "outputs": []
    },
    {
      "cell_type": "markdown",
      "source": [
        "**Now get the app.py file(.py file that has the above source code) by giving url(drive) or path in local**\n",
        "\n",
        "**Push the requirements.txt file also which has the package names in it**"
      ],
      "metadata": {
        "id": "u4q_mGxibojM"
      }
    },
    {
      "cell_type": "code",
      "source": [
        "%mkdir /content/chatbot-falcon\n",
        "!wget -P  /content/chatbot-falcon 'url or path for app.py'\n",
        "!wget -P  /content/chatbot-falcon 'url or path for requirements.txt'"
      ],
      "metadata": {
        "id": "nsweRTEBcrYk"
      },
      "execution_count": null,
      "outputs": []
    },
    {
      "cell_type": "markdown",
      "source": [
        "**By Running following code you push into the repository created**\n",
        "\n",
        "**After finished executing, check your repository for the files**"
      ],
      "metadata": {
        "id": "c0hG6gd5cXYv"
      }
    },
    {
      "cell_type": "code",
      "source": [
        "%cd /content/chatbot-falcon\n",
        "api.upload_file(path_or_fileobj= \"/content/chatbot-falcon/app.py\",\n",
        "                path_in_repo=\"app.py\",\n",
        "                repo_id= HUGGING_FACE_REPO_ID,\n",
        "                repo_type=\"space\")"
      ],
      "metadata": {
        "id": "P5CpTmyBgKhC"
      },
      "execution_count": null,
      "outputs": []
    }
  ]
}
